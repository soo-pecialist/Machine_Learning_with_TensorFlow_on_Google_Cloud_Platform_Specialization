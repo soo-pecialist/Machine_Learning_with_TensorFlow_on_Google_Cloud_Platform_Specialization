{
 "cells": [
  {
   "cell_type": "markdown",
   "metadata": {},
   "source": [
    "<h1> Using Machine Learning APIs </h1>\n",
    "\n",
    "First, visit <a href=\"http://console.cloud.google.com/apis\">API console</a>, choose \"Credentials\" on the left-hand menu.  Choose \"Create Credentials\" and generate an API key for your application. You should probably restrict it by IP address to prevent abuse, but for now, just  leave that field blank and delete the API key after trying out this demo.\n",
    "\n",
    "Copy-paste your API Key here:"
   ]
  },
  {
   "cell_type": "code",
   "execution_count": 1,
   "metadata": {},
   "outputs": [],
   "source": [
    "APIKEY=\"<API-KEY>\"# Replace with your API key"
   ]
  },
  {
   "cell_type": "markdown",
   "metadata": {},
   "source": [
    "<b> Note: Make sure you generate an API Key and replace the value above. The sample key will not work.</b>\n",
    "\n",
    "From the same API console, choose \"Dashboard\" on the left-hand menu and \"Enable API\".\n",
    "\n",
    "Enable the following APIs for your project (search for them) if they are not already enabled:\n",
    "<ol>\n",
    "<li> Google Translate API </li>\n",
    "<li> Google Cloud Vision API </li>\n",
    "<li> Google Natural Language API </li>\n",
    "<li> Google Cloud Speech API </li>\n",
    "</ol>\n",
    "\n",
    "Finally, because we are calling the APIs from Python (clients in many other languages are available), let's install the Python package (it's not installed by default on Datalab)"
   ]
  },
  {
   "cell_type": "code",
   "execution_count": 2,
   "metadata": {},
   "outputs": [],
   "source": [
    "# !pip install --upgrade google-api-python-client"
   ]
  },
  {
   "cell_type": "markdown",
   "metadata": {},
   "source": [
    "<h2> Invoke Translate API </h2>"
   ]
  },
  {
   "cell_type": "code",
   "execution_count": 3,
   "metadata": {},
   "outputs": [
    {
     "name": "stdout",
     "output_type": "stream",
     "text": [
      "is it really this easy? -> 정말 쉬운가요?\n",
      "amazing technology -> 놀라운 기술\n",
      "wow -> 와\n"
     ]
    }
   ],
   "source": [
    "# running Translate API\n",
    "from googleapiclient.discovery import build\n",
    "service = build('translate', 'v2', developerKey=APIKEY)\n",
    "\n",
    "# use the service\n",
    "inputs = ['is it really this easy?', 'amazing technology', 'wow']\n",
    "outputs = service.translations().list(source='en', target='ko', q=inputs).execute()\n",
    "# print outputs\n",
    "for input, output in zip(inputs, outputs['translations']):\n",
    "  print(\"{0} -> {1}\".format(input, output['translatedText']))"
   ]
  },
  {
   "cell_type": "markdown",
   "metadata": {},
   "source": [
    "<h2> Invoke Vision API </h2>\n",
    "\n",
    "The Vision API can work off an image in Cloud Storage or embedded directly into a POST message. I'll use Cloud Storage and do OCR on this image: <img src=\"https://storage.googleapis.com/cloud-training-demos/vision/sign2.jpg\" width=\"200\" />.  That photograph is from http://www.publicdomainpictures.net/view-image.php?image=15842\n"
   ]
  },
  {
   "cell_type": "code",
   "execution_count": 4,
   "metadata": {},
   "outputs": [
    {
     "name": "stdout",
     "output_type": "stream",
     "text": [
      "{'responses': [{'fullTextAnnotation': {'pages': [{'height': 818, 'property': {'detectedLanguages': [{'languageCode': 'zh', 'confidence': 0.75}]}, 'width': 1280, 'blocks': [{'paragraphs': [{'boundingBox': {'vertices': [{'x': 130, 'y': 88}, {'x': 1067, 'y': 90}, {'x': 1066, 'y': 657}, {'x': 129, 'y': 655}]}, 'property': {'detectedLanguages': [{'languageCode': 'zh', 'confidence': 0.75}]}, 'words': [{'boundingBox': {'vertices': [{'x': 179, 'y': 101}, {'x': 317, 'y': 102}, {'x': 316, 'y': 239}, {'x': 178, 'y': 238}]}, 'property': {'detectedLanguages': [{'languageCode': 'zh'}]}, 'symbols': [{'text': '请', 'boundingBox': {'vertices': [{'x': 179, 'y': 101}, {'x': 317, 'y': 102}, {'x': 316, 'y': 239}, {'x': 178, 'y': 238}]}, 'property': {'detectedLanguages': [{'languageCode': 'zh'}]}}]}, {'boundingBox': {'vertices': [{'x': 330, 'y': 104}, {'x': 468, 'y': 105}, {'x': 467, 'y': 240}, {'x': 329, 'y': 239}]}, 'property': {'detectedLanguages': [{'languageCode': 'zh'}]}, 'symbols': [{'text': '您', 'boundingBox': {'vertices': [{'x': 330, 'y': 104}, {'x': 468, 'y': 105}, {'x': 467, 'y': 240}, {'x': 329, 'y': 239}]}, 'property': {'detectedLanguages': [{'languageCode': 'zh'}]}}]}, {'boundingBox': {'vertices': [{'x': 479, 'y': 107}, {'x': 770, 'y': 109}, {'x': 769, 'y': 244}, {'x': 478, 'y': 242}]}, 'property': {'detectedLanguages': [{'languageCode': 'zh'}]}, 'symbols': [{'text': '爱', 'boundingBox': {'vertices': [{'x': 479, 'y': 108}, {'x': 616, 'y': 109}, {'x': 615, 'y': 243}, {'x': 478, 'y': 242}]}, 'property': {'detectedLanguages': [{'languageCode': 'zh'}]}}, {'text': '护', 'boundingBox': {'vertices': [{'x': 633, 'y': 108}, {'x': 770, 'y': 109}, {'x': 769, 'y': 243}, {'x': 632, 'y': 242}]}, 'property': {'detectedLanguages': [{'languageCode': 'zh'}]}}]}, {'boundingBox': {'vertices': [{'x': 772, 'y': 91}, {'x': 936, 'y': 92}, {'x': 935, 'y': 255}, {'x': 771, 'y': 254}]}, 'property': {'detectedLanguages': [{'languageCode': 'zh'}]}, 'symbols': [{'text': '和', 'boundingBox': {'vertices': [{'x': 772, 'y': 91}, {'x': 936, 'y': 92}, {'x': 935, 'y': 255}, {'x': 771, 'y': 254}]}, 'property': {'detectedLanguages': [{'languageCode': 'zh'}]}}]}, {'boundingBox': {'vertices': [{'x': 938, 'y': 92}, {'x': 1045, 'y': 93}, {'x': 1044, 'y': 256}, {'x': 937, 'y': 255}]}, 'property': {'detectedLanguages': [{'languageCode': 'zh'}]}, 'symbols': [{'text': '保', 'boundingBox': {'vertices': [{'x': 938, 'y': 92}, {'x': 1045, 'y': 93}, {'x': 1044, 'y': 256}, {'x': 937, 'y': 255}]}, 'property': {'detectedLanguages': [{'languageCode': 'zh'}], 'detectedBreak': {'type': 'EOL_SURE_SPACE'}}}]}, {'boundingBox': {'vertices': [{'x': 130, 'y': 280}, {'x': 335, 'y': 280}, {'x': 335, 'y': 455}, {'x': 130, 'y': 455}]}, 'property': {'detectedLanguages': [{'languageCode': 'zh'}]}, 'symbols': [{'text': '护', 'boundingBox': {'vertices': [{'x': 130, 'y': 280}, {'x': 335, 'y': 280}, {'x': 335, 'y': 455}, {'x': 130, 'y': 455}]}, 'property': {'detectedLanguages': [{'languageCode': 'zh'}]}}]}, {'boundingBox': {'vertices': [{'x': 476, 'y': 302}, {'x': 615, 'y': 302}, {'x': 615, 'y': 437}, {'x': 476, 'y': 437}]}, 'property': {'detectedLanguages': [{'languageCode': 'zh'}]}, 'symbols': [{'text': '卫', 'boundingBox': {'vertices': [{'x': 476, 'y': 302}, {'x': 481, 'y': 302}, {'x': 481, 'y': 437}, {'x': 476, 'y': 437}]}, 'property': {'detectedLanguages': [{'languageCode': 'zh'}]}}, {'text': '生', 'boundingBox': {'vertices': [{'x': 482, 'y': 302}, {'x': 615, 'y': 302}, {'x': 615, 'y': 437}, {'x': 482, 'y': 437}]}, 'property': {'detectedLanguages': [{'languageCode': 'zh'}]}}]}, {'boundingBox': {'vertices': [{'x': 617, 'y': 280}, {'x': 979, 'y': 280}, {'x': 979, 'y': 455}, {'x': 617, 'y': 455}]}, 'property': {'detectedLanguages': [{'languageCode': 'zh'}]}, 'symbols': [{'text': '创', 'boundingBox': {'vertices': [{'x': 617, 'y': 280}, {'x': 805, 'y': 280}, {'x': 805, 'y': 455}, {'x': 617, 'y': 455}]}, 'property': {'detectedLanguages': [{'languageCode': 'zh'}]}}, {'text': '建', 'boundingBox': {'vertices': [{'x': 806, 'y': 280}, {'x': 979, 'y': 280}, {'x': 979, 'y': 455}, {'x': 806, 'y': 455}]}, 'property': {'detectedLanguages': [{'languageCode': 'zh'}]}}]}, {'boundingBox': {'vertices': [{'x': 981, 'y': 280}, {'x': 1067, 'y': 280}, {'x': 1067, 'y': 455}, {'x': 981, 'y': 455}]}, 'property': {'detectedLanguages': [{'languageCode': 'zh'}]}, 'symbols': [{'text': '优', 'boundingBox': {'vertices': [{'x': 981, 'y': 280}, {'x': 1067, 'y': 280}, {'x': 1067, 'y': 455}, {'x': 981, 'y': 455}]}, 'property': {'detectedLanguages': [{'languageCode': 'zh'}], 'detectedBreak': {'type': 'EOL_SURE_SPACE'}}}]}, {'boundingBox': {'vertices': [{'x': 152, 'y': 504}, {'x': 295, 'y': 504}, {'x': 295, 'y': 651}, {'x': 152, 'y': 651}]}, 'symbols': [{'text': '美', 'boundingBox': {'vertices': [{'x': 152, 'y': 504}, {'x': 295, 'y': 504}, {'x': 295, 'y': 651}, {'x': 152, 'y': 651}]}}]}, {'boundingBox': {'vertices': [{'x': 308, 'y': 504}, {'x': 451, 'y': 504}, {'x': 451, 'y': 647}, {'x': 308, 'y': 647}]}, 'symbols': [{'text': '水', 'boundingBox': {'vertices': [{'x': 308, 'y': 504}, {'x': 451, 'y': 504}, {'x': 451, 'y': 647}, {'x': 308, 'y': 647}]}}]}, {'boundingBox': {'vertices': [{'x': 468, 'y': 508}, {'x': 767, 'y': 508}, {'x': 767, 'y': 655}, {'x': 468, 'y': 655}]}, 'symbols': [{'text': '环', 'boundingBox': {'vertices': [{'x': 468, 'y': 508}, {'x': 611, 'y': 508}, {'x': 611, 'y': 647}, {'x': 468, 'y': 647}]}}, {'text': '境', 'boundingBox': {'vertices': [{'x': 620, 'y': 508}, {'x': 767, 'y': 508}, {'x': 767, 'y': 655}, {'x': 620, 'y': 655}]}, 'property': {'detectedBreak': {'type': 'EOL_SURE_SPACE'}}}]}]}], 'boundingBox': {'vertices': [{'x': 130, 'y': 88}, {'x': 1067, 'y': 90}, {'x': 1066, 'y': 657}, {'x': 129, 'y': 655}]}, 'property': {'detectedLanguages': [{'languageCode': 'zh', 'confidence': 0.75}]}, 'blockType': 'TEXT'}]}], 'text': '请您爱护和保\\n护卫生创建优\\n美水环境\\n'}, 'textAnnotations': [{'locale': 'zh', 'description': '请您爱护和保\\n护卫生创建优\\n美水环境\\n', 'boundingPoly': {'vertices': [{'x': 130, 'y': 91}, {'x': 1067, 'y': 91}, {'x': 1067, 'y': 655}, {'x': 130, 'y': 655}]}}, {'description': '请', 'boundingPoly': {'vertices': [{'x': 179, 'y': 101}, {'x': 317, 'y': 102}, {'x': 316, 'y': 239}, {'x': 178, 'y': 238}]}}, {'description': '您', 'boundingPoly': {'vertices': [{'x': 330, 'y': 104}, {'x': 468, 'y': 105}, {'x': 467, 'y': 240}, {'x': 329, 'y': 239}]}}, {'description': '爱护', 'boundingPoly': {'vertices': [{'x': 479, 'y': 107}, {'x': 770, 'y': 109}, {'x': 769, 'y': 244}, {'x': 478, 'y': 242}]}}, {'description': '和', 'boundingPoly': {'vertices': [{'x': 772, 'y': 91}, {'x': 936, 'y': 92}, {'x': 935, 'y': 255}, {'x': 771, 'y': 254}]}}, {'description': '保', 'boundingPoly': {'vertices': [{'x': 938, 'y': 92}, {'x': 1045, 'y': 93}, {'x': 1044, 'y': 256}, {'x': 937, 'y': 255}]}}, {'description': '护', 'boundingPoly': {'vertices': [{'x': 130, 'y': 280}, {'x': 335, 'y': 280}, {'x': 335, 'y': 455}, {'x': 130, 'y': 455}]}}, {'description': '卫生', 'boundingPoly': {'vertices': [{'x': 476, 'y': 302}, {'x': 615, 'y': 302}, {'x': 615, 'y': 437}, {'x': 476, 'y': 437}]}}, {'description': '创建', 'boundingPoly': {'vertices': [{'x': 617, 'y': 280}, {'x': 979, 'y': 280}, {'x': 979, 'y': 455}, {'x': 617, 'y': 455}]}}, {'description': '优', 'boundingPoly': {'vertices': [{'x': 981, 'y': 280}, {'x': 1067, 'y': 280}, {'x': 1067, 'y': 455}, {'x': 981, 'y': 455}]}}, {'description': '美', 'boundingPoly': {'vertices': [{'x': 152, 'y': 504}, {'x': 295, 'y': 504}, {'x': 295, 'y': 651}, {'x': 152, 'y': 651}]}}, {'description': '水', 'boundingPoly': {'vertices': [{'x': 308, 'y': 504}, {'x': 451, 'y': 504}, {'x': 451, 'y': 647}, {'x': 308, 'y': 647}]}}, {'description': '环境', 'boundingPoly': {'vertices': [{'x': 468, 'y': 508}, {'x': 767, 'y': 508}, {'x': 767, 'y': 655}, {'x': 468, 'y': 655}]}}]}]}\n"
     ]
    }
   ],
   "source": [
    "# Running Vision API\n",
    "import base64\n",
    "IMAGE=\"gs://cloud-training-demos/vision/sign2.jpg\"\n",
    "vservice = build('vision', 'v1', developerKey=APIKEY)\n",
    "request = vservice.images().annotate(body={\n",
    "        'requests': [{\n",
    "                'image': {\n",
    "                    'source': {\n",
    "                        'gcs_image_uri': IMAGE\n",
    "                    }\n",
    "                },\n",
    "                'features': [{\n",
    "                    'type': 'TEXT_DETECTION',\n",
    "                    'maxResults': 3,\n",
    "                }]\n",
    "            }],\n",
    "        })\n",
    "responses = request.execute(num_retries=3)\n",
    "print(responses)"
   ]
  },
  {
   "cell_type": "code",
   "execution_count": 5,
   "metadata": {},
   "outputs": [
    {
     "name": "stdout",
     "output_type": "stream",
     "text": [
      "zh 请您爱护和保\n",
      "护卫生创建优\n",
      "美水环境\n",
      "\n"
     ]
    }
   ],
   "source": [
    "foreigntext = responses['responses'][0]['textAnnotations'][0]['description']\n",
    "foreignlang = responses['responses'][0]['textAnnotations'][0]['locale']\n",
    "print(foreignlang, foreigntext)"
   ]
  },
  {
   "cell_type": "markdown",
   "metadata": {},
   "source": [
    "<h2> Translate sign </h2>"
   ]
  },
  {
   "cell_type": "code",
   "execution_count": 6,
   "metadata": {},
   "outputs": [
    {
     "name": "stdout",
     "output_type": "stream",
     "text": [
      "请您爱护和保\n",
      "护卫生创建优\n",
      "美水环境\n",
      " -> Please protect and protect the health to create a beautiful water environment\n"
     ]
    }
   ],
   "source": [
    "inputs=[foreigntext]\n",
    "outputs = service.translations().list(source=foreignlang, target='en', q=inputs).execute()\n",
    "# print(outputs)\n",
    "for input, output in zip(inputs, outputs['translations']):\n",
    "  print(\"{0} -> {1}\".format(input, output['translatedText']))"
   ]
  },
  {
   "cell_type": "markdown",
   "metadata": {},
   "source": [
    "<h2> Sentiment analysis with Language API </h2>\n",
    "\n",
    "Let's evaluate the sentiment of some famous quotes using Google Cloud Natural Language API."
   ]
  },
  {
   "cell_type": "code",
   "execution_count": 7,
   "metadata": {},
   "outputs": [
    {
     "name": "stdout",
     "output_type": "stream",
     "text": [
      "POLARITY=1 MAGNITUDE=0.9 for To succeed, you must have tremendous perseverance, tremendous will.\n",
      "POLARITY=-1 MAGNITUDE=0.5 for It’s not that I’m so smart, it’s just that I stay with problems longer.\n",
      "POLARITY=1 MAGNITUDE=0.9 for Love is quivering happiness.\n",
      "POLARITY=1 MAGNITUDE=0.9 for Love is of all passions the strongest, for it attacks simultaneously the head, the heart, and the senses.\n",
      "POLARITY=1 MAGNITUDE=0.2 for What difference does it make to the dead, the orphans and the homeless, whether the mad destruction is wrought under the name of totalitarianism or in the holy name of liberty or democracy?\n",
      "POLARITY=-1 MAGNITUDE=0.4 for When someone you love dies, and you’re not expecting it, you don’t lose her all at once; you lose her in pieces over a long time — the way the mail stops coming, and her scent fades from the pillows and even from the clothes in her closet and drawers. \n"
     ]
    }
   ],
   "source": [
    "lservice = build('language', 'v1beta1', developerKey=APIKEY)\n",
    "quotes = [\n",
    "  'To succeed, you must have tremendous perseverance, tremendous will.',\n",
    "  'It’s not that I’m so smart, it’s just that I stay with problems longer.',\n",
    "  'Love is quivering happiness.',\n",
    "  'Love is of all passions the strongest, for it attacks simultaneously the head, the heart, and the senses.',\n",
    "  'What difference does it make to the dead, the orphans and the homeless, whether the mad destruction is wrought under the name of totalitarianism or in the holy name of liberty or democracy?',\n",
    "  'When someone you love dies, and you’re not expecting it, you don’t lose her all at once; you lose her in pieces over a long time — the way the mail stops coming, and her scent fades from the pillows and even from the clothes in her closet and drawers. '\n",
    "]\n",
    "\n",
    "for quote in quotes:\n",
    "  response = lservice.documents().analyzeSentiment(\n",
    "    body={\n",
    "      'document': {\n",
    "         'type': 'PLAIN_TEXT',\n",
    "         'content': quote\n",
    "      }\n",
    "    }).execute()\n",
    "  polarity = response['documentSentiment']['polarity']\n",
    "  magnitude = response['documentSentiment']['magnitude']\n",
    "  print('POLARITY=%s MAGNITUDE=%s for %s' % (polarity, magnitude, quote))"
   ]
  },
  {
   "cell_type": "markdown",
   "metadata": {},
   "source": [
    "<h2> Speech API </h2>\n",
    "\n",
    "The Speech API can work on streaming data, audio content encoded and embedded directly into the POST message, or on a file on Cloud Storage. Here I'll pass in this <a href=\"https://storage.googleapis.com/cloud-training-demos/vision/audio.raw\">audio file</a> in Cloud Storage."
   ]
  },
  {
   "cell_type": "code",
   "execution_count": 8,
   "metadata": {},
   "outputs": [
    {
     "name": "stdout",
     "output_type": "stream",
     "text": [
      "{'results': [{'alternatives': [{'transcript': 'how old is the Brooklyn Bridge', 'confidence': 0.9835046}]}]}\n"
     ]
    }
   ],
   "source": [
    "sservice = build('speech', 'v1', developerKey=APIKEY)\n",
    "response = sservice.speech().recognize(\n",
    "    body={\n",
    "        'config': {\n",
    "            'languageCode' : 'en-US',\n",
    "            'encoding': 'LINEAR16',\n",
    "            'sampleRateHertz': 16000\n",
    "        },\n",
    "        'audio': {\n",
    "            'uri': 'gs://cloud-training-demos/vision/audio.raw'\n",
    "            }\n",
    "        }).execute()\n",
    "print(response)"
   ]
  },
  {
   "cell_type": "code",
   "execution_count": 9,
   "metadata": {},
   "outputs": [
    {
     "name": "stdout",
     "output_type": "stream",
     "text": [
      "how old is the Brooklyn Bridge\n",
      "Confidence=0.983505\n"
     ]
    }
   ],
   "source": [
    "print(response['results'][0]['alternatives'][0]['transcript'])\n",
    "print('Confidence=%f' % response['results'][0]['alternatives'][0]['confidence'])"
   ]
  },
  {
   "cell_type": "markdown",
   "metadata": {},
   "source": [
    "<h2> Clean up </h2>\n",
    "\n",
    "Remember to delete the API key by visiting <a href=\"http://console.cloud.google.com/apis\">API console</a>.\n",
    "\n",
    "If necessary, commit all your notebooks to git.\n",
    "\n",
    "If you are running Datalab on a Compute Engine VM or delegating to one, remember to stop or shut it down so that you are not charged.\n"
   ]
  },
  {
   "cell_type": "markdown",
   "metadata": {},
   "source": [
    "## Challenge Exercise\n",
    "\n",
    "Here are a few portraits from the Metropolitan Museum of Art, New York (they are part of a [BigQuery public dataset](https://bigquery.cloud.google.com/dataset/bigquery-public-data:the_met) ):\n",
    "\n",
    "* gs://cloud-training-demos/images/met/APS6880.jpg\n",
    "* gs://cloud-training-demos/images/met/DP205018.jpg\n",
    "* gs://cloud-training-demos/images/met/DP290402.jpg\n",
    "* gs://cloud-training-demos/images/met/DP700302.jpg\n",
    "\n",
    "Use the Vision API to identify which of these images depict happy people and which ones depict unhappy people.\n",
    "\n",
    "Hint (highlight to see): <p style=\"color:white\">You will need to look for joyLikelihood and/or sorrowLikelihood from the response.</p>"
   ]
  },
  {
   "cell_type": "code",
   "execution_count": 10,
   "metadata": {},
   "outputs": [
    {
     "name": "stdout",
     "output_type": "stream",
     "text": [
      "{'responses': [{'faceAnnotations': [{'tiltAngle': 1.8490546, 'panAngle': 16.239819, 'landmarks': [{'position': {'x': 475.19302, 'z': 0.00029033108, 'y': 321.14987}, 'type': 'LEFT_EYE'}, {'position': {'x': 523.1612, 'z': 14.202248, 'y': 315.0329}, 'type': 'RIGHT_EYE'}, {'position': {'x': 456.7901, 'z': -0.32090467, 'y': 312.9947}, 'type': 'LEFT_OF_LEFT_EYEBROW'}, {'position': {'x': 488.6449, 'z': -5.745748, 'y': 306.56735}, 'type': 'RIGHT_OF_LEFT_EYEBROW'}, {'position': {'x': 512.889, 'z': 1.4079385, 'y': 304.13208}, 'type': 'LEFT_OF_RIGHT_EYEBROW'}, {'position': {'x': 538.6083, 'z': 24.485023, 'y': 301.4679}, 'type': 'RIGHT_OF_RIGHT_EYEBROW'}, {'position': {'x': 502.29764, 'z': -3.262267, 'y': 314.6078}, 'type': 'MIDPOINT_BETWEEN_EYES'}, {'position': {'x': 511.10468, 'z': -19.002424, 'y': 345.2981}, 'type': 'NOSE_TIP'}, {'position': {'x': 510.48077, 'z': -7.6702957, 'y': 367.79727}, 'type': 'UPPER_LIP'}, {'position': {'x': 511.26743, 'z': -4.7394686, 'y': 381.28754}, 'type': 'LOWER_LIP'}, {'position': {'x': 489.75977, 'z': -0.49938828, 'y': 375.94952}, 'type': 'MOUTH_LEFT'}, {'position': {'x': 525.28467, 'z': 10.646972, 'y': 371.53943}, 'type': 'MOUTH_RIGHT'}, {'position': {'x': 510.16544, 'z': -4.2373614, 'y': 373.39148}, 'type': 'MOUTH_CENTER'}, {'position': {'x': 519.4253, 'z': 4.06965, 'y': 350.36768}, 'type': 'NOSE_BOTTOM_RIGHT'}, {'position': {'x': 495.74545, 'z': -3.9219544, 'y': 352.66992}, 'type': 'NOSE_BOTTOM_LEFT'}, {'position': {'x': 509.59552, 'z': -7.623974, 'y': 355.58716}, 'type': 'NOSE_BOTTOM_CENTER'}, {'position': {'x': 475.31662, 'z': -3.2921424, 'y': 318.26874}, 'type': 'LEFT_EYE_TOP_BOUNDARY'}, {'position': {'x': 485.045, 'z': 3.1108947, 'y': 320.916}, 'type': 'LEFT_EYE_RIGHT_CORNER'}, {'position': {'x': 475.2065, 'z': -0.54823434, 'y': 325.62222}, 'type': 'LEFT_EYE_BOTTOM_BOUNDARY'}, {'position': {'x': 464.55673, 'z': 1.5703812, 'y': 323.65707}, 'type': 'LEFT_EYE_LEFT_CORNER'}, {'position': {'x': 474.43362, 'z': -1.3862821, 'y': 322.179}, 'type': 'LEFT_EYE_PUPIL'}, {'position': {'x': 525.31885, 'z': 11.377035, 'y': 311.7575}, 'type': 'RIGHT_EYE_TOP_BOUNDARY'}, {'position': {'x': 533.46906, 'z': 22.110083, 'y': 314.80426}, 'type': 'RIGHT_EYE_RIGHT_CORNER'}, {'position': {'x': 524.65436, 'z': 14.021625, 'y': 319.1054}, 'type': 'RIGHT_EYE_BOTTOM_BOUNDARY'}, {'position': {'x': 513.87494, 'z': 11.695747, 'y': 317.9903}, 'type': 'RIGHT_EYE_LEFT_CORNER'}, {'position': {'x': 525.7736, 'z': 13.633114, 'y': 315.51355}, 'type': 'RIGHT_EYE_PUPIL'}, {'position': {'x': 471.88153, 'z': -5.9144135, 'y': 303.30862}, 'type': 'LEFT_EYEBROW_UPPER_MIDPOINT'}, {'position': {'x': 526.12, 'z': 10.009487, 'y': 296.22598}, 'type': 'RIGHT_EYEBROW_UPPER_MIDPOINT'}, {'position': {'x': 429.06036, 'z': 51.936756, 'y': 356.25394}, 'type': 'LEFT_EAR_TRAGION'}, {'position': {'x': 542.5891, 'z': 85.21823, 'y': 341.4891}, 'type': 'RIGHT_EAR_TRAGION'}, {'position': {'x': 501.41733, 'z': -3.9605129, 'y': 304.90393}, 'type': 'FOREHEAD_GLABELLA'}, {'position': {'x': 513.09094, 'z': 1.939364, 'y': 407.2567}, 'type': 'CHIN_GNATHION'}, {'position': {'x': 445.0373, 'z': 31.851019, 'y': 387.46}, 'type': 'CHIN_LEFT_GONION'}, {'position': {'x': 547.72314, 'z': 61.976585, 'y': 374.19598}, 'type': 'CHIN_RIGHT_GONION'}], 'sorrowLikelihood': 'VERY_UNLIKELY', 'underExposedLikelihood': 'VERY_UNLIKELY', 'angerLikelihood': 'VERY_UNLIKELY', 'surpriseLikelihood': 'VERY_UNLIKELY', 'detectionConfidence': 0.6254974, 'rollAngle': -7.962302, 'joyLikelihood': 'LIKELY', 'landmarkingConfidence': 0.62366116, 'fdBoundingPoly': {'vertices': [{'x': 441, 'y': 278}, {'x': 561, 'y': 278}, {'x': 561, 'y': 398}, {'x': 441, 'y': 398}]}, 'boundingPoly': {'vertices': [{'x': 403, 'y': 231}, {'x': 576, 'y': 231}, {'x': 576, 'y': 432}, {'x': 403, 'y': 432}]}, 'headwearLikelihood': 'VERY_UNLIKELY', 'blurredLikelihood': 'VERY_UNLIKELY'}]}]}\n"
     ]
    }
   ],
   "source": [
    "# Running Vision API\n",
    "import base64\n",
    "IMAGE=\"gs://cloud-training-demos/images/met/APS6880.jpg\"\n",
    "vservice = build('vision', 'v1', developerKey=APIKEY)\n",
    "request = vservice.images().annotate(body={\n",
    "        'requests': [{\n",
    "                'image': {\n",
    "                    'source': {\n",
    "                        'gcs_image_uri': IMAGE\n",
    "                    }\n",
    "                },\n",
    "                'features': [{\n",
    "                    'type': 'FACE_DETECTION',\n",
    "                    'maxResults': 3,\n",
    "                }]\n",
    "            }],\n",
    "        })\n",
    "responses = request.execute(num_retries=3)\n",
    "print(responses)"
   ]
  },
  {
   "cell_type": "code",
   "execution_count": 11,
   "metadata": {},
   "outputs": [
    {
     "name": "stdout",
     "output_type": "stream",
     "text": [
      "'gs://cloud-training-demos/images/met/APS6880.jpg':\n",
      "joyLikelihood: LIKELY\n",
      "sorrowLikelihood: VERY_UNLIKELY\n",
      "\n",
      "'gs://cloud-training-demos/images/met/DP205018.jpg':\n",
      "joyLikelihood: LIKELY\n",
      "sorrowLikelihood: VERY_UNLIKELY\n",
      "\n",
      "'gs://cloud-training-demos/images/met/DP290402.jpg':\n",
      "joyLikelihood: VERY_UNLIKELY\n",
      "sorrowLikelihood: VERY_UNLIKELY\n",
      "\n",
      "'gs://cloud-training-demos/images/met/DP700302.jpg':\n",
      "joyLikelihood: VERY_UNLIKELY\n",
      "sorrowLikelihood: VERY_UNLIKELY\n",
      "\n"
     ]
    }
   ],
   "source": [
    "images = ['gs://cloud-training-demos/images/met/APS6880.jpg',  \n",
    "          'gs://cloud-training-demos/images/met/DP205018.jpg',\n",
    "          'gs://cloud-training-demos/images/met/DP290402.jpg',\n",
    "          'gs://cloud-training-demos/images/met/DP700302.jpg']\n",
    "\n",
    "  \n",
    "for image in images:  \n",
    "  IMAGE=image\n",
    "  vservice = build('vision', 'v1', developerKey=APIKEY)\n",
    "  request = vservice.images().annotate(body={\n",
    "          'requests': [{\n",
    "                  'image': {\n",
    "                      'source': {\n",
    "                          'gcs_image_uri': IMAGE\n",
    "                      }\n",
    "                  },\n",
    "                  'features': [{\n",
    "                      'type': 'FACE_DETECTION',\n",
    "                      'maxResults': 3,\n",
    "                  }]\n",
    "              }],\n",
    "          })\n",
    "  responses = request.execute(num_retries=3)\n",
    "  print(\"'{}':\".format(image))\n",
    "  print(\"joyLikelihood: {}\".format(responses['responses'][0]['faceAnnotations'][0]['joyLikelihood']))\n",
    "  print(\"sorrowLikelihood: {}\".format(responses['responses'][0]['faceAnnotations'][0]['sorrowLikelihood']))\n",
    "  print()"
   ]
  },
  {
   "cell_type": "markdown",
   "metadata": {},
   "source": [
    "Copyright 2018 Google Inc.\n",
    "Licensed under the Apache License, Version 2.0 (the \"License\"); you may not use this file except in compliance with the License. You may obtain a copy of the License at\n",
    "http://www.apache.org/licenses/LICENSE-2.0\n",
    "Unless required by applicable law or agreed to in writing, software distributed under the License is distributed on an \"AS IS\" BASIS, WITHOUT WARRANTIES OR CONDITIONS OF ANY KIND, either express or implied. See the License for the specific language governing permissions and limitations under the License."
   ]
  },
  {
   "cell_type": "code",
   "execution_count": null,
   "metadata": {},
   "outputs": [],
   "source": []
  }
 ],
 "metadata": {
  "kernelspec": {
   "display_name": "Python 3",
   "language": "python",
   "name": "python3"
  },
  "language_info": {
   "codemirror_mode": {
    "name": "ipython",
    "version": 3
   },
   "file_extension": ".py",
   "mimetype": "text/x-python",
   "name": "python",
   "nbconvert_exporter": "python",
   "pygments_lexer": "ipython3",
   "version": "3.7.4"
  }
 },
 "nbformat": 4,
 "nbformat_minor": 2
}
